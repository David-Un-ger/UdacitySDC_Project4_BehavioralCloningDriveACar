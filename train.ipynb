{
 "cells": [
  {
   "cell_type": "code",
   "execution_count": 2,
   "metadata": {
    "scrolled": true
   },
   "outputs": [
    {
     "name": "stdout",
     "output_type": "stream",
     "text": [
      "Read file: driving_log0.csv\n",
      "Read file: driving_log2.csv\n",
      "Read file: driving_log3.csv\n",
      "Read file: driving_log4.csv\n",
      "Read file: driving_log5.csv\n",
      "                             filename  steering\n",
      "0  center_2019_03_09_08_16_18_692.jpg      0.00\n",
      "1  center_2019_03_09_08_16_18_767.jpg      0.00\n",
      "2  center_2019_03_09_08_16_18_838.jpg      0.00\n",
      "3  center_2019_03_09_08_16_18_909.jpg      0.00\n",
      "4  center_2019_03_09_08_16_18_978.jpg     -0.15\n",
      "RangeIndex(start=0, stop=73194, step=1)\n"
     ]
    }
   ],
   "source": [
    "# to read input images from several recording sessions, the CSV log files must be merged.\n",
    "# all log files are stored in the log_path\n",
    "# all recorded images are stored in the img_path\n",
    "\n",
    "# Combining the log files here gives the advantage, that the steering correction value for the left and right image is still adjustable. \n",
    "\n",
    "import os\n",
    "import pandas as pd \n",
    "\n",
    "df = pd.DataFrame()  # create an empty dataframe\n",
    "steering_correction = 0.2 # will be applied on the steering angle for the left and right image\n",
    "\n",
    "log_path = \"TrainingDataTrack0/driving_log/\"\n",
    "img_path = \"TrainingDataTrack0/IMG/\"\n",
    "\n",
    "# loop over all log files from the recordings and will combine them\n",
    "for file in os.listdir(log_path):\n",
    "    print(\"Read file: \" + file)\n",
    "\n",
    "    data = pd.read_csv(log_path + file, header=None) \n",
    "    \n",
    "    center = data.iloc[:, [0, 3]] # df with two columns: center images and the steering angle\n",
    "\n",
    "    left = data[[1, 3]].copy()  # df with two columns: left images and the steering angle\n",
    "    left[[3]] += steering_correction  # adjust the steering angle by the correction value\n",
    "    \n",
    "    right = data[[2, 3]].copy() # df with two columns: right images and the steering angle\n",
    "    right[[3]] -= steering_correction # adjust the steering angle by the correction value\n",
    "    center.columns, left.columns, right.columns = [0, 1], [0, 1], [0, 1] # give all the dataframes the same column names that they can be appended\n",
    "    \n",
    "    df = df.append(center, ignore_index=True)\n",
    "    df = df.append(left, ignore_index=True)\n",
    "    df = df.append(right, ignore_index=True)\n",
    "\n",
    "\n",
    "    \n",
    "df.columns = [\"filename\", \"steering\"] # rename the column names\n",
    "filenames = df[\"filename\"].apply(lambda x: x.split('\\\\')[-1])  # just store the filename in col 0, not the complete path\n",
    "df[[\"filename\"]] = filenames\n",
    "\n",
    "print(df.head())\n",
    "print(df.index)"
   ]
  },
  {
   "cell_type": "code",
   "execution_count": 10,
   "metadata": {
    "scrolled": true
   },
   "outputs": [
    {
     "name": "stdout",
     "output_type": "stream",
     "text": [
      "_________________________________________________________________\n",
      "Layer (type)                 Output Shape              Param #   \n",
      "=================================================================\n",
      "cropping2d_3 (Cropping2D)    (None, 65, 320, 3)        0         \n",
      "_________________________________________________________________\n",
      "lambda_3 (Lambda)            (None, 65, 320, 3)        0         \n",
      "_________________________________________________________________\n",
      "conv2d_11 (Conv2D)           (None, 31, 158, 24)       1824      \n",
      "_________________________________________________________________\n",
      "conv2d_12 (Conv2D)           (None, 14, 77, 36)        21636     \n",
      "_________________________________________________________________\n",
      "conv2d_13 (Conv2D)           (None, 5, 37, 48)         43248     \n",
      "_________________________________________________________________\n",
      "conv2d_14 (Conv2D)           (None, 3, 35, 64)         27712     \n",
      "_________________________________________________________________\n",
      "conv2d_15 (Conv2D)           (None, 1, 33, 64)         36928     \n",
      "_________________________________________________________________\n",
      "dropout_3 (Dropout)          (None, 1, 33, 64)         0         \n",
      "_________________________________________________________________\n",
      "flatten_3 (Flatten)          (None, 2112)              0         \n",
      "_________________________________________________________________\n",
      "dense_9 (Dense)              (None, 100)               211300    \n",
      "_________________________________________________________________\n",
      "dense_10 (Dense)             (None, 50)                5050      \n",
      "_________________________________________________________________\n",
      "dense_11 (Dense)             (None, 10)                510       \n",
      "_________________________________________________________________\n",
      "dense_12 (Dense)             (None, 1)                 11        \n",
      "=================================================================\n",
      "Total params: 348,219\n",
      "Trainable params: 348,219\n",
      "Non-trainable params: 0\n",
      "_________________________________________________________________\n"
     ]
    },
    {
     "name": "stderr",
     "output_type": "stream",
     "text": [
      "C:\\ProgramData\\Anaconda3\\lib\\site-packages\\ipykernel_launcher.py:10: UserWarning: Update your `Conv2D` call to the Keras 2 API: `Conv2D(24, (5, 5), activation=\"elu\", strides=(2, 2))`\n",
      "  # Remove the CWD from sys.path while we load stuff.\n",
      "C:\\ProgramData\\Anaconda3\\lib\\site-packages\\ipykernel_launcher.py:11: UserWarning: Update your `Conv2D` call to the Keras 2 API: `Conv2D(36, (5, 5), activation=\"elu\", strides=(2, 2))`\n",
      "  # This is added back by InteractiveShellApp.init_path()\n",
      "C:\\ProgramData\\Anaconda3\\lib\\site-packages\\ipykernel_launcher.py:12: UserWarning: Update your `Conv2D` call to the Keras 2 API: `Conv2D(48, (5, 5), activation=\"elu\", strides=(2, 2))`\n",
      "  if sys.path[0] == '':\n"
     ]
    }
   ],
   "source": [
    "# create a CNN that is capable of the E2E learning. The used CNN is the architecture of the E2E learing Nvidia paper\n",
    "\n",
    "from keras.models import Sequential\n",
    "from keras.layers import Lambda, Conv2D, MaxPool2D, Dropout, Dense, Flatten, Cropping2D\n",
    "from keras.optimizers import Adam\n",
    "\n",
    "model = Sequential()\n",
    "model.add(Cropping2D(cropping=((70, 25), (0,0)), input_shape=(160, 320, 3)))\n",
    "model.add(Lambda(lambda x: x/255 - 0.5))\n",
    "model.add(Conv2D(24, (5, 5), activation=\"elu\", subsample=(2,2)))\n",
    "model.add(Conv2D(36, (5, 5), activation=\"elu\", subsample=(2,2)))\n",
    "model.add(Conv2D(48, (5, 5), activation=\"elu\", subsample=(2,2)))\n",
    "model.add(Conv2D(64, (3, 3), activation=\"elu\"))\n",
    "model.add(Conv2D(64, (3, 3), activation=\"elu\"))\n",
    "model.add(Dropout(0.7))\n",
    "model.add(Flatten())\n",
    "model.add(Dense(100, activation=\"elu\"))\n",
    "model.add(Dense(50, activation=\"elu\"))\n",
    "model.add(Dense(10, activation=\"elu\"))\n",
    "model.add(Dense(1))\n",
    "model.summary()\n",
    "\n",
    "\n"
   ]
  },
  {
   "cell_type": "code",
   "execution_count": 12,
   "metadata": {
    "scrolled": true
   },
   "outputs": [
    {
     "name": "stdout",
     "output_type": "stream",
     "text": [
      "Found 73194 images.\n",
      "Epoch 1/5\n",
      " - 9s - loss: 0.0599\n",
      "Epoch 2/5\n",
      " - 8s - loss: 0.0461\n",
      "Epoch 3/5\n",
      " - 9s - loss: 0.0429\n",
      "Epoch 4/5\n",
      " - 9s - loss: 0.0403\n",
      "Epoch 5/5\n",
      " - 9s - loss: 0.0402\n"
     ]
    }
   ],
   "source": [
    "# Train the CNN using the flow_from_dataframe image data generator.\n",
    "# The image data generator is also used for data augmentation - with shifting and zooming the number of training images is increased\n",
    "# Horizontal flip is not used because I didn´t know how the corresponding steering value can be inverted.\n",
    "\n",
    "from keras.preprocessing.image import ImageDataGenerator\n",
    "\n",
    "\n",
    "datagen = ImageDataGenerator(\n",
    "    rescale=1,#./255,\n",
    "    #rotation_range=20,\n",
    "    zoom_range=0.1,\n",
    "    width_shift_range=5,\n",
    "    height_shift_range=5,\n",
    "    horizontal_flip=False,\n",
    ")\n",
    "    #preprocessing_function=preprocess_input)\n",
    "\n",
    "train_generator=datagen.flow_from_dataframe(dataframe=df, \n",
    "                                            directory=img_path, \n",
    "                                            shuffle=True, \n",
    "                                            x_col=\"filename\", \n",
    "                                            y_col=\"steering\", \n",
    "                                            class_mode=\"other\", \n",
    "                                            target_size=(160,320), \n",
    "                                            batch_size=32\n",
    "                                           )\n",
    "\n",
    "\n",
    "model.compile(loss=\"mse\", optimizer=Adam(lr=0.0001))  # mse because it is a regression not a classification task\n",
    "history_object = model.fit_generator(train_generator, epochs=5, workers=8, steps_per_epoch=156, verbose=2)"
   ]
  },
  {
   "cell_type": "code",
   "execution_count": 13,
   "metadata": {},
   "outputs": [
    {
     "name": "stdout",
     "output_type": "stream",
     "text": [
      "Epoch 1/10\n",
      " - 9s - loss: 0.0375\n",
      "Epoch 2/10\n",
      " - 9s - loss: 0.0366\n",
      "Epoch 3/10\n",
      " - 9s - loss: 0.0375\n",
      "Epoch 4/10\n",
      " - 9s - loss: 0.0358\n",
      "Epoch 5/10\n",
      " - 9s - loss: 0.0346\n",
      "Epoch 6/10\n",
      " - 9s - loss: 0.0373\n",
      "Epoch 7/10\n",
      " - 9s - loss: 0.0336\n",
      "Epoch 8/10\n",
      " - 9s - loss: 0.0334\n",
      "Epoch 9/10\n",
      " - 9s - loss: 0.0339\n",
      "Epoch 10/10\n",
      " - 9s - loss: 0.0338\n"
     ]
    }
   ],
   "source": [
    "# Further training\n",
    "\n",
    "history_object = model.fit_generator(train_generator, epochs=10, workers=8, steps_per_epoch=156, verbose=2) # one epoche = 90s "
   ]
  },
  {
   "cell_type": "code",
   "execution_count": 14,
   "metadata": {},
   "outputs": [],
   "source": [
    "# Store the model\n",
    "\n",
    "model.save(\"model.h5\")"
   ]
  },
  {
   "cell_type": "code",
   "execution_count": 15,
   "metadata": {},
   "outputs": [
    {
     "name": "stdout",
     "output_type": "stream",
     "text": [
      "dict_keys(['loss'])\n"
     ]
    },
    {
     "data": {
      "image/png": "[encoded data removed]",
      "text/plain": [
       "<Figure size 432x288 with 1 Axes>"
      ]
     },
     "metadata": {},
     "output_type": "display_data"
    }
   ],
   "source": [
    "import matplotlib.pyplot as plt\n",
    "\n",
    "\n",
    "### plot the training loss for each epoch\n",
    "plt.plot(history_object.history['loss'])\n",
    "plt.title('model mean squared error loss')\n",
    "plt.ylabel('mean squared error loss')\n",
    "plt.xlabel('epoch')\n",
    "plt.legend(['training set'], loc='upper right')\n",
    "plt.show()"
   ]
  }
 ],
 "metadata": {
  "kernelspec": {
   "display_name": "Python 3",
   "language": "python",
   "name": "python3"
  },
  "language_info": {
   "codemirror_mode": {
    "name": "ipython",
    "version": 3
   },
   "file_extension": ".py",
   "mimetype": "text/x-python",
   "name": "python",
   "nbconvert_exporter": "python",
   "pygments_lexer": "ipython3",
   "version": "3.6.5"
  }
 },
 "nbformat": 4,
 "nbformat_minor": 2
}
