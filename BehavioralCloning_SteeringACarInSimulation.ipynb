{
 "cells": [
  {
   "cell_type": "code",
   "execution_count": 1,
   "metadata": {},
   "outputs": [
    {
     "name": "stdout",
     "output_type": "stream",
     "text": [
      "(6565, 160, 320, 3) (6565,)\n"
     ]
    }
   ],
   "source": [
    "import csv\n",
    "import cv2\n",
    "import numpy as np\n",
    "\n",
    "def readImages(img_path):\n",
    "    lines = []\n",
    "    with open(img_path + \"driving_log.csv\") as csvfile:\n",
    "        reader = csv.reader(csvfile)\n",
    "        for line in reader:\n",
    "            lines.append(line)\n",
    "\n",
    "    images = []\n",
    "    measurements = []\n",
    "    for line in lines:\n",
    "        img_name = line[0].split('\\\\')[-1] # center image\n",
    "        image = cv2.imread(img_path + \"IMG/\" + img_name)\n",
    "        images.append(image)\n",
    "        \n",
    "        measurement = float(line[3])\n",
    "        measurements.append(measurement)\n",
    "        \n",
    "    X_train = np.array(images)\n",
    "    y_train = np.array(measurements)\n",
    "    \n",
    "    return X_train, y_train\n",
    "\n",
    "X_train, y_train = readImages(\"C:/Scarlett/SelfDrivingCar/UdacityComputerVision/CarND-BehavioralCloning/TrainingData0/\")\n",
    "    \n",
    "print(X_train.shape, y_train.shape)"
   ]
  },
  {
   "cell_type": "code",
   "execution_count": 4,
   "metadata": {},
   "outputs": [
    {
     "name": "stdout",
     "output_type": "stream",
     "text": [
      "Train on 5252 samples, validate on 1313 samples\n",
      "Epoch 1/10\n",
      "5252/5252 [==============================] - 6s 1ms/step - loss: 7064327.4965 - val_loss: 6416.9648\n",
      "Epoch 2/10\n",
      "5252/5252 [==============================] - 6s 1ms/step - loss: 4125.4203 - val_loss: 3503.0136\n",
      "Epoch 3/10\n",
      "5252/5252 [==============================] - 6s 1ms/step - loss: 3634.6392 - val_loss: 2491.8239\n",
      "Epoch 4/10\n",
      "5252/5252 [==============================] - 6s 1ms/step - loss: 2827.4783 - val_loss: 2185.0370\n",
      "Epoch 5/10\n",
      "5252/5252 [==============================] - 6s 1ms/step - loss: 4803.9760 - val_loss: 3017.5020\n",
      "Epoch 6/10\n",
      "5252/5252 [==============================] - 6s 1ms/step - loss: 2266.8150 - val_loss: 5408.6435\n",
      "Epoch 7/10\n",
      "5252/5252 [==============================] - 6s 1ms/step - loss: 3858.3602 - val_loss: 5261.9787\n",
      "Epoch 8/10\n",
      "5252/5252 [==============================] - 6s 1ms/step - loss: 5548.6419 - val_loss: 9064.9625\n",
      "Epoch 9/10\n",
      "5252/5252 [==============================] - 6s 1ms/step - loss: 18953.6637 - val_loss: 9053.1915\n",
      "Epoch 10/10\n",
      "5252/5252 [==============================] - 6s 1ms/step - loss: 418751.0609 - val_loss: 28308.0407\n"
     ]
    }
   ],
   "source": [
    "from keras.models import Sequential\n",
    "from keras.layers import Flatten, Dense\n",
    "\n",
    "model = Sequential()\n",
    "model.add(Flatten(input_shape=(160, 320, 3)))\n",
    "model.add(Dense(1))\n",
    "\n",
    "model.compile(loss=\"mse\", optimizer=\"adam\")  # mse because it is a regression not a classification task\n",
    "model.fit(X_train, y_train, validation_split=0.2, shuffle=True, epochs=10)\n",
    "\n",
    "model.save(\"model.h5\")"
   ]
  }
 ],
 "metadata": {
  "kernelspec": {
   "display_name": "Python 3",
   "language": "python",
   "name": "python3"
  },
  "language_info": {
   "codemirror_mode": {
    "name": "ipython",
    "version": 3
   },
   "file_extension": ".py",
   "mimetype": "text/x-python",
   "name": "python",
   "nbconvert_exporter": "python",
   "pygments_lexer": "ipython3",
   "version": "3.6.5"
  }
 },
 "nbformat": 4,
 "nbformat_minor": 2
}
